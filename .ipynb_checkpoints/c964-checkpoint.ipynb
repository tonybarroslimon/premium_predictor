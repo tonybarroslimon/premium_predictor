{
 "cells": [
  {
   "cell_type": "code",
   "execution_count": 63,
   "id": "bcdc2ae0",
   "metadata": {},
   "outputs": [
    {
     "name": "stdout",
     "output_type": "stream",
     "text": [
      "1.3.4\n",
      "1.20.3\n",
      "0.11.2\n",
      "3.4.3\n",
      "0.24.2\n",
      "7.6.5\n"
     ]
    }
   ],
   "source": [
    "# Needed imports\n",
    "import pandas as pd\n",
    "import numpy as np\n",
    "import seaborn\n",
    "import matplotlib.pyplot as pyplot\n",
    "from sklearn import metrics\n",
    "from sklearn.ensemble import RandomForestRegressor\n",
    "from sklearn.model_selection import train_test_split\n",
    "from ipywidgets import interact, interactive, fixed, interact_manual\n",
    "import ipywidgets as widgets"
   ]
  },
  {
   "cell_type": "code",
   "execution_count": 56,
   "id": "0e0b0b63",
   "metadata": {},
   "outputs": [
    {
     "data": {
      "text/html": [
       "<div>\n",
       "<style scoped>\n",
       "    .dataframe tbody tr th:only-of-type {\n",
       "        vertical-align: middle;\n",
       "    }\n",
       "\n",
       "    .dataframe tbody tr th {\n",
       "        vertical-align: top;\n",
       "    }\n",
       "\n",
       "    .dataframe thead th {\n",
       "        text-align: right;\n",
       "    }\n",
       "</style>\n",
       "<table border=\"1\" class=\"dataframe\">\n",
       "  <thead>\n",
       "    <tr style=\"text-align: right;\">\n",
       "      <th></th>\n",
       "      <th>age</th>\n",
       "      <th>sex</th>\n",
       "      <th>bmi</th>\n",
       "      <th>children</th>\n",
       "      <th>smoker</th>\n",
       "      <th>region</th>\n",
       "      <th>charges</th>\n",
       "    </tr>\n",
       "  </thead>\n",
       "  <tbody>\n",
       "    <tr>\n",
       "      <th>0</th>\n",
       "      <td>19</td>\n",
       "      <td>female</td>\n",
       "      <td>27.900</td>\n",
       "      <td>0</td>\n",
       "      <td>yes</td>\n",
       "      <td>southwest</td>\n",
       "      <td>16884.92400</td>\n",
       "    </tr>\n",
       "    <tr>\n",
       "      <th>1</th>\n",
       "      <td>18</td>\n",
       "      <td>male</td>\n",
       "      <td>33.770</td>\n",
       "      <td>1</td>\n",
       "      <td>no</td>\n",
       "      <td>southeast</td>\n",
       "      <td>1725.55230</td>\n",
       "    </tr>\n",
       "    <tr>\n",
       "      <th>2</th>\n",
       "      <td>28</td>\n",
       "      <td>male</td>\n",
       "      <td>33.000</td>\n",
       "      <td>3</td>\n",
       "      <td>no</td>\n",
       "      <td>southeast</td>\n",
       "      <td>4449.46200</td>\n",
       "    </tr>\n",
       "    <tr>\n",
       "      <th>3</th>\n",
       "      <td>33</td>\n",
       "      <td>male</td>\n",
       "      <td>22.705</td>\n",
       "      <td>0</td>\n",
       "      <td>no</td>\n",
       "      <td>northwest</td>\n",
       "      <td>21984.47061</td>\n",
       "    </tr>\n",
       "    <tr>\n",
       "      <th>4</th>\n",
       "      <td>32</td>\n",
       "      <td>male</td>\n",
       "      <td>28.880</td>\n",
       "      <td>0</td>\n",
       "      <td>no</td>\n",
       "      <td>northwest</td>\n",
       "      <td>3866.85520</td>\n",
       "    </tr>\n",
       "  </tbody>\n",
       "</table>\n",
       "</div>"
      ],
      "text/plain": [
       "   age     sex     bmi  children smoker     region      charges\n",
       "0   19  female  27.900         0    yes  southwest  16884.92400\n",
       "1   18    male  33.770         1     no  southeast   1725.55230\n",
       "2   28    male  33.000         3     no  southeast   4449.46200\n",
       "3   33    male  22.705         0     no  northwest  21984.47061\n",
       "4   32    male  28.880         0     no  northwest   3866.85520"
      ]
     },
     "execution_count": 56,
     "metadata": {},
     "output_type": "execute_result"
    }
   ],
   "source": [
    "#importing the training data\n",
    "train_data = pd.read_csv('https://github.com/tonybarroslimon/premium_predictor/raw/master/Health_insurance.csv')\n",
    "train_data.head()"
   ]
  },
  {
   "cell_type": "code",
   "execution_count": 6,
   "id": "a6819582",
   "metadata": {
    "scrolled": false
   },
   "outputs": [
    {
     "name": "stdout",
     "output_type": "stream",
     "text": [
      "We are transforming some of the columns to normalize data.\n",
      "We will give all string values a numerical equivalent. For example yes/no will be 0 and 1\n"
     ]
    },
    {
     "data": {
      "text/html": [
       "<div>\n",
       "<style scoped>\n",
       "    .dataframe tbody tr th:only-of-type {\n",
       "        vertical-align: middle;\n",
       "    }\n",
       "\n",
       "    .dataframe tbody tr th {\n",
       "        vertical-align: top;\n",
       "    }\n",
       "\n",
       "    .dataframe thead th {\n",
       "        text-align: right;\n",
       "    }\n",
       "</style>\n",
       "<table border=\"1\" class=\"dataframe\">\n",
       "  <thead>\n",
       "    <tr style=\"text-align: right;\">\n",
       "      <th></th>\n",
       "      <th>age</th>\n",
       "      <th>sex</th>\n",
       "      <th>bmi</th>\n",
       "      <th>children</th>\n",
       "      <th>smoker</th>\n",
       "      <th>region</th>\n",
       "      <th>charges</th>\n",
       "    </tr>\n",
       "  </thead>\n",
       "  <tbody>\n",
       "    <tr>\n",
       "      <th>0</th>\n",
       "      <td>19</td>\n",
       "      <td>0</td>\n",
       "      <td>27.900</td>\n",
       "      <td>0</td>\n",
       "      <td>1</td>\n",
       "      <td>southwest</td>\n",
       "      <td>16884.92400</td>\n",
       "    </tr>\n",
       "    <tr>\n",
       "      <th>1</th>\n",
       "      <td>18</td>\n",
       "      <td>1</td>\n",
       "      <td>33.770</td>\n",
       "      <td>1</td>\n",
       "      <td>0</td>\n",
       "      <td>southeast</td>\n",
       "      <td>1725.55230</td>\n",
       "    </tr>\n",
       "    <tr>\n",
       "      <th>2</th>\n",
       "      <td>28</td>\n",
       "      <td>1</td>\n",
       "      <td>33.000</td>\n",
       "      <td>3</td>\n",
       "      <td>0</td>\n",
       "      <td>southeast</td>\n",
       "      <td>4449.46200</td>\n",
       "    </tr>\n",
       "    <tr>\n",
       "      <th>3</th>\n",
       "      <td>33</td>\n",
       "      <td>1</td>\n",
       "      <td>22.705</td>\n",
       "      <td>0</td>\n",
       "      <td>0</td>\n",
       "      <td>northwest</td>\n",
       "      <td>21984.47061</td>\n",
       "    </tr>\n",
       "    <tr>\n",
       "      <th>4</th>\n",
       "      <td>32</td>\n",
       "      <td>1</td>\n",
       "      <td>28.880</td>\n",
       "      <td>0</td>\n",
       "      <td>0</td>\n",
       "      <td>northwest</td>\n",
       "      <td>3866.85520</td>\n",
       "    </tr>\n",
       "  </tbody>\n",
       "</table>\n",
       "</div>"
      ],
      "text/plain": [
       "   age  sex     bmi  children  smoker     region      charges\n",
       "0   19    0  27.900         0       1  southwest  16884.92400\n",
       "1   18    1  33.770         1       0  southeast   1725.55230\n",
       "2   28    1  33.000         3       0  southeast   4449.46200\n",
       "3   33    1  22.705         0       0  northwest  21984.47061\n",
       "4   32    1  28.880         0       0  northwest   3866.85520"
      ]
     },
     "execution_count": 6,
     "metadata": {},
     "output_type": "execute_result"
    }
   ],
   "source": [
    "print(\"We are transforming some of the columns to normalize data.\")\n",
    "print(\"We will give all string values a numerical equivalent. For example yes/no will be 0 and 1\")\n",
    "ts_data = train_data\n",
    "ts_data[\"sex\"] = ts_data[\"sex\"].map({\"female\": 0, \"male\": 1})\n",
    "ts_data[\"smoker\"] = ts_data[\"smoker\"].map({\"no\": 0, \"yes\": 1})\n",
    "ts_data.head()"
   ]
  },
  {
   "cell_type": "markdown",
   "id": "9b57e368",
   "metadata": {},
   "source": [
    "# Dataset Descriptive Overview"
   ]
  },
  {
   "cell_type": "code",
   "execution_count": 7,
   "id": "6bbcec46",
   "metadata": {
    "scrolled": true
   },
   "outputs": [
    {
     "data": {
      "text/html": [
       "<div>\n",
       "<style scoped>\n",
       "    .dataframe tbody tr th:only-of-type {\n",
       "        vertical-align: middle;\n",
       "    }\n",
       "\n",
       "    .dataframe tbody tr th {\n",
       "        vertical-align: top;\n",
       "    }\n",
       "\n",
       "    .dataframe thead th {\n",
       "        text-align: right;\n",
       "    }\n",
       "</style>\n",
       "<table border=\"1\" class=\"dataframe\">\n",
       "  <thead>\n",
       "    <tr style=\"text-align: right;\">\n",
       "      <th></th>\n",
       "      <th>age</th>\n",
       "      <th>sex</th>\n",
       "      <th>bmi</th>\n",
       "      <th>children</th>\n",
       "      <th>smoker</th>\n",
       "      <th>charges</th>\n",
       "    </tr>\n",
       "  </thead>\n",
       "  <tbody>\n",
       "    <tr>\n",
       "      <th>count</th>\n",
       "      <td>1338.000000</td>\n",
       "      <td>1338.000000</td>\n",
       "      <td>1338.000000</td>\n",
       "      <td>1338.000000</td>\n",
       "      <td>1338.000000</td>\n",
       "      <td>1338.000000</td>\n",
       "    </tr>\n",
       "    <tr>\n",
       "      <th>mean</th>\n",
       "      <td>39.207025</td>\n",
       "      <td>0.505232</td>\n",
       "      <td>30.663397</td>\n",
       "      <td>1.094918</td>\n",
       "      <td>0.204783</td>\n",
       "      <td>13270.422265</td>\n",
       "    </tr>\n",
       "    <tr>\n",
       "      <th>std</th>\n",
       "      <td>14.049960</td>\n",
       "      <td>0.500160</td>\n",
       "      <td>6.098187</td>\n",
       "      <td>1.205493</td>\n",
       "      <td>0.403694</td>\n",
       "      <td>12110.011237</td>\n",
       "    </tr>\n",
       "    <tr>\n",
       "      <th>min</th>\n",
       "      <td>18.000000</td>\n",
       "      <td>0.000000</td>\n",
       "      <td>15.960000</td>\n",
       "      <td>0.000000</td>\n",
       "      <td>0.000000</td>\n",
       "      <td>1121.873900</td>\n",
       "    </tr>\n",
       "    <tr>\n",
       "      <th>25%</th>\n",
       "      <td>27.000000</td>\n",
       "      <td>0.000000</td>\n",
       "      <td>26.296250</td>\n",
       "      <td>0.000000</td>\n",
       "      <td>0.000000</td>\n",
       "      <td>4740.287150</td>\n",
       "    </tr>\n",
       "    <tr>\n",
       "      <th>50%</th>\n",
       "      <td>39.000000</td>\n",
       "      <td>1.000000</td>\n",
       "      <td>30.400000</td>\n",
       "      <td>1.000000</td>\n",
       "      <td>0.000000</td>\n",
       "      <td>9382.033000</td>\n",
       "    </tr>\n",
       "    <tr>\n",
       "      <th>75%</th>\n",
       "      <td>51.000000</td>\n",
       "      <td>1.000000</td>\n",
       "      <td>34.693750</td>\n",
       "      <td>2.000000</td>\n",
       "      <td>0.000000</td>\n",
       "      <td>16639.912515</td>\n",
       "    </tr>\n",
       "    <tr>\n",
       "      <th>max</th>\n",
       "      <td>64.000000</td>\n",
       "      <td>1.000000</td>\n",
       "      <td>53.130000</td>\n",
       "      <td>5.000000</td>\n",
       "      <td>1.000000</td>\n",
       "      <td>63770.428010</td>\n",
       "    </tr>\n",
       "  </tbody>\n",
       "</table>\n",
       "</div>"
      ],
      "text/plain": [
       "               age          sex          bmi     children       smoker  \\\n",
       "count  1338.000000  1338.000000  1338.000000  1338.000000  1338.000000   \n",
       "mean     39.207025     0.505232    30.663397     1.094918     0.204783   \n",
       "std      14.049960     0.500160     6.098187     1.205493     0.403694   \n",
       "min      18.000000     0.000000    15.960000     0.000000     0.000000   \n",
       "25%      27.000000     0.000000    26.296250     0.000000     0.000000   \n",
       "50%      39.000000     1.000000    30.400000     1.000000     0.000000   \n",
       "75%      51.000000     1.000000    34.693750     2.000000     0.000000   \n",
       "max      64.000000     1.000000    53.130000     5.000000     1.000000   \n",
       "\n",
       "            charges  \n",
       "count   1338.000000  \n",
       "mean   13270.422265  \n",
       "std    12110.011237  \n",
       "min     1121.873900  \n",
       "25%     4740.287150  \n",
       "50%     9382.033000  \n",
       "75%    16639.912515  \n",
       "max    63770.428010  "
      ]
     },
     "execution_count": 7,
     "metadata": {},
     "output_type": "execute_result"
    }
   ],
   "source": [
    "seaborn.set(style=\"whitegrid\")\n",
    "ts_data.describe()"
   ]
  },
  {
   "cell_type": "markdown",
   "id": "d6b10c09",
   "metadata": {},
   "source": [
    "### Distribution of Insurance Cost"
   ]
  },
  {
   "cell_type": "code",
   "execution_count": 8,
   "id": "59bfe3f6",
   "metadata": {},
   "outputs": [
    {
     "data": {
      "text/plain": [
       "(array([242., 196., 188., 155., 153.,  62.,  39.,  48.,  35.,  31.,  20.,\n",
       "         13.,   8.,  27.,  26.,  28.,  17.,  20.,  19.,   5.,   1.,   1.,\n",
       "          1.,   1.,   2.]),\n",
       " array([ 1121.8739   ,  3627.8160644,  6133.7582288,  8639.7003932,\n",
       "        11145.6425576, 13651.584722 , 16157.5268864, 18663.4690508,\n",
       "        21169.4112152, 23675.3533796, 26181.295544 , 28687.2377084,\n",
       "        31193.1798728, 33699.1220372, 36205.0642016, 38711.006366 ,\n",
       "        41216.9485304, 43722.8906948, 46228.8328592, 48734.7750236,\n",
       "        51240.717188 , 53746.6593524, 56252.6015168, 58758.5436812,\n",
       "        61264.4858456, 63770.42801  ]),\n",
       " <BarContainer object of 25 artists>)"
      ]
     },
     "execution_count": 8,
     "metadata": {},
     "output_type": "execute_result"
    },
    {
     "data": {
      "image/png": "[encoded data removed]",
      "text/plain": [
       "<Figure size 432x288 with 1 Axes>"
      ]
     },
     "metadata": {},
     "output_type": "display_data"
    }
   ],
   "source": [
    "y_axis = ts_data[\"charges\"]\n",
    "pyplot.hist(y_axis, bins = 25)"
   ]
  },
  {
   "cell_type": "markdown",
   "id": "0b4472c8",
   "metadata": {},
   "source": [
    "### Normalized Insurance Costs Distribution"
   ]
  },
  {
   "cell_type": "code",
   "execution_count": 9,
   "id": "8425f911",
   "metadata": {},
   "outputs": [
    {
     "data": {
      "text/plain": [
       "(array([ 19.,   5.,  52.,  41.,  40.,  38.,  47.,  41.,  75.,  59.,  78.,\n",
       "         80., 101., 105., 124.,  80.,  38.,  58.,  50.,  38.,  23.,  60.,\n",
       "         57.,  24.,   5.]),\n",
       " array([10.25487969, 10.48319892, 10.71151815, 10.93983739, 11.16815662,\n",
       "        11.39647585, 11.62479508, 11.85311431, 12.08143355, 12.30975278,\n",
       "        12.53807201, 12.76639124, 12.99471048, 13.22302971, 13.45134894,\n",
       "        13.67966817, 13.90798741, 14.13630664, 14.36462587, 14.5929451 ,\n",
       "        14.82126434, 15.04958357, 15.2779028 , 15.50622203, 15.73454127,\n",
       "        15.9628605 ]),\n",
       " <BarContainer object of 25 artists>)"
      ]
     },
     "execution_count": 9,
     "metadata": {},
     "output_type": "execute_result"
    },
    {
     "data": {
      "image/png": "[encoded data removed]",
      "text/plain": [
       "<Figure size 432x288 with 1 Axes>"
      ]
     },
     "metadata": {},
     "output_type": "display_data"
    }
   ],
   "source": [
    "offset_log = 100\n",
    "pyplot.hist(np.log2(y_axis + offset_log), bins = 25)"
   ]
  },
  {
   "cell_type": "markdown",
   "id": "0c5d0137",
   "metadata": {},
   "source": [
    "## Heatmap of Feature Correlation Description"
   ]
  },
  {
   "cell_type": "code",
   "execution_count": 10,
   "id": "b65e66ad",
   "metadata": {
    "scrolled": true
   },
   "outputs": [
    {
     "data": {
      "text/plain": [
       "<AxesSubplot:>"
      ]
     },
     "execution_count": 10,
     "metadata": {},
     "output_type": "execute_result"
    },
    {
     "data": {
      "image/png": "[encoded data removed]",
      "text/plain": [
       "<Figure size 360x360 with 2 Axes>"
      ]
     },
     "metadata": {},
     "output_type": "display_data"
    }
   ],
   "source": [
    "pyplot.figure(figsize = (5, 5))\n",
    "train_correlation = ts_data.corr()\n",
    "seaborn.heatmap(train_correlation, cmap = \"coolwarm\", annot = True, fmt = '.1f', linewidths = 0.05)"
   ]
  },
  {
   "cell_type": "markdown",
   "id": "c9a50ed6",
   "metadata": {},
   "source": [
    "### 0.8 correlation with 'Charges' is selected as significant to include with the regressor."
   ]
  },
  {
   "cell_type": "code",
   "execution_count": 55,
   "id": "975792b9",
   "metadata": {},
   "outputs": [
    {
     "data": {
      "image/png": "[encoded data removed]",
      "text/plain": [
       "<Figure size 360x360 with 1 Axes>"
      ]
     },
     "metadata": {},
     "output_type": "display_data"
    },
    {
     "data": {
      "image/png": "[encoded data removed]",
      "text/plain": [
       "<Figure size 360x360 with 1 Axes>"
      ]
     },
     "metadata": {},
     "output_type": "display_data"
    }
   ],
   "source": [
    "significant_correlation = train_correlation.index[train_correlation['charges'] >= 0.7]\n",
    "features = [feature for feature in significant_correlation]\n",
    "\n",
    "# Plotting the relations between features and charges\n",
    "for feature in features:\n",
    "    seaborn.lmplot(x = feature, y = 'charges', data = ts_data)"
   ]
  },
  {
   "cell_type": "code",
   "execution_count": 51,
   "id": "4bac857c",
   "metadata": {},
   "outputs": [],
   "source": [
    "x_axis = np.array(ts_data[[\"age\", \"sex\", \"bmi\", \"smoker\"]])\n",
    "y_axis = np.array(ts_data[\"charges\"])\n",
    "\n",
    "xtrain, xtest, ytrain, ytest = train_test_split(x_axis, y_axis, test_size=0.2, random_state=41)\n",
    "\n",
    "forest = RandomForestRegressor(n_estimators = 1000, random_state = 0)\n",
    "\n",
    "forest.fit(xtrain, ytrain)               \n",
    "    \n",
    "predictions = forest.predict(xtest)"
   ]
  },
  {
   "cell_type": "code",
   "execution_count": 52,
   "id": "92271811",
   "metadata": {},
   "outputs": [],
   "source": [
    "def calculate_forest(age, sex, bmi, smoker):\n",
    "    price_prediction = forest.predict([[\n",
    "        age.value, \n",
    "        sex.value, \n",
    "        bmi.value, \n",
    "        smoker.value]])\n",
    "    return price_prediction    "
   ]
  },
  {
   "cell_type": "code",
   "execution_count": 53,
   "id": "c0a13104",
   "metadata": {},
   "outputs": [
    {
     "data": {
      "application/vnd.jupyter.widget-view+json": {
       "model_id": "b7c14b174529412c9f50223334b8b5c0",
       "version_major": 2,
       "version_minor": 0
      },
      "text/plain": [
       "Tab(children=(VBox(children=(IntSlider(value=0, description='Age:', max=99), Dropdown(description='Sex:', inde…"
      ]
     },
     "metadata": {},
     "output_type": "display_data"
    }
   ],
   "source": [
    "# Widgets capture input and are passed as arguments to calculate_forest function when the calculate button is pressed\n",
    "\n",
    "age = widgets.IntSlider(\n",
    "    min = 0, \n",
    "    max = 99, \n",
    "    step = 1, \n",
    "    description = 'Age:'\n",
    ")\n",
    "\n",
    "sex = widgets.Dropdown(\n",
    "    options = [('Female', 0), ('Male', 1)],\n",
    "    value = 1,\n",
    "    description = 'Sex:'\n",
    ")\n",
    "\n",
    "bmi = widgets.IntSlider(\n",
    "    min = 0,\n",
    "    max = 100,\n",
    "    step = 1,\n",
    "    description = \"BMI:\"\n",
    ")\n",
    "\n",
    "smoker = widgets.Dropdown(\n",
    "    options = [('No', 0), ('Yes', 1)],\n",
    "    value = 0,\n",
    "    description = 'Smoker:'\n",
    ")\n",
    "\n",
    "region = widgets.Dropdown(\n",
    "    options = [('Northwest', 0), ('Southwest', 1), ('Northeast', 2), ('Southeast', 3)],\n",
    "    value = 0,\n",
    "    description = 'Region:'\n",
    ")\n",
    "\n",
    "# Initializing the layout of the widgets.\n",
    "children = [widgets.VBox([age, sex, bmi, smoker, region])]\n",
    "tab = widgets.Tab()\n",
    "tab.children = children\n",
    "tab.set_title(0, 'Insurance Premiums')\n",
    "tab"
   ]
  },
  {
   "cell_type": "code",
   "execution_count": 54,
   "id": "75ef2742",
   "metadata": {},
   "outputs": [
    {
     "data": {
      "application/vnd.jupyter.widget-view+json": {
       "model_id": "bde5bd93d95049098f47b90c52c5de45",
       "version_major": 2,
       "version_minor": 0
      },
      "text/plain": [
       "VBox(children=(Button(description='Calculate', style=ButtonStyle()), Output()))"
      ]
     },
     "metadata": {},
     "output_type": "display_data"
    }
   ],
   "source": [
    "def on_click(_):\n",
    "    prediction = calculate_forest(age, sex, bmi, smoker)\n",
    "\n",
    "    mae = metrics.mean_absolute_error(ytest, predictions)\n",
    "    with out:\n",
    "        out.clear_output()\n",
    "        print(\"--Prediction--\")\n",
    "        print(f\"The Random Forest model predicts {prediction[0]} dollars for an insurance premium with these features.\")\n",
    "        print(\"--Error Analysis--\")\n",
    "        print(f\"Mean Absolute Error: {mae}\")\n",
    "    return\n",
    "\n",
    "calculate_button = widgets.Button(description='Calculate')\n",
    "out = widgets.Output()\n",
    "\n",
    "calculate_button.on_click(on_click)\n",
    "widgets.VBox([calculate_button, out])"
   ]
  },
  {
   "cell_type": "code",
   "execution_count": null,
   "id": "0cc09534",
   "metadata": {},
   "outputs": [],
   "source": []
  }
 ],
 "metadata": {
  "kernelspec": {
   "display_name": "Python 3 (ipykernel)",
   "language": "python",
   "name": "python3"
  },
  "language_info": {
   "codemirror_mode": {
    "name": "ipython",
    "version": 3
   },
   "file_extension": ".py",
   "mimetype": "text/x-python",
   "name": "python",
   "nbconvert_exporter": "python",
   "pygments_lexer": "ipython3",
   "version": "3.9.7"
  }
 },
 "nbformat": 4,
 "nbformat_minor": 5
}
